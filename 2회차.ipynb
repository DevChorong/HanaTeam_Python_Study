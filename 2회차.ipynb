{
  "nbformat": 4,
  "nbformat_minor": 0,
  "metadata": {
    "colab": {
      "name": "2회차",
      "provenance": [],
      "collapsed_sections": [],
      "authorship_tag": "ABX9TyNq+NNEsLR2YKai5iVT3yx+",
      "include_colab_link": true
    },
    "kernelspec": {
      "name": "python3",
      "display_name": "Python 3"
    },
    "language_info": {
      "name": "python"
    }
  },
  "cells": [
    {
      "cell_type": "markdown",
      "metadata": {
        "id": "view-in-github",
        "colab_type": "text"
      },
      "source": [
        "<a href=\"https://colab.research.google.com/github/DevChorong/HanaTeam_Python_Study/blob/main/2%ED%9A%8C%EC%B0%A8.ipynb\" target=\"_parent\"><img src=\"https://colab.research.google.com/assets/colab-badge.svg\" alt=\"Open In Colab\"/></a>"
      ]
    },
    {
      "cell_type": "markdown",
      "metadata": {
        "id": "lTQWx31kTxCH"
      },
      "source": [
        "# 하나팀 기초 파이썬 스터디\n",
        "#### [ 2021 - 05 - 17(월) ]\n",
        "******\n",
        "> * Mark Down 알아보기\n",
        "> * 파이썬(Python) 자료형 알기\n",
        "> * 문제풀이\n"
      ]
    },
    {
      "cell_type": "markdown",
      "metadata": {
        "id": "1E4JdHoyYSXG"
      },
      "source": [
        "## 1. 파이썬 자료형 알아보기\n",
        "******"
      ]
    },
    {
      "cell_type": "code",
      "metadata": {
        "colab": {
          "base_uri": "https://localhost:8080/"
        },
        "id": "fjiYpmZ9TrhN",
        "outputId": "4b58086a-16ca-4e1a-e3d9-7082bcb4c1f2"
      },
      "source": [
        "x = double(input(\"x의 값을 입력하세요 : \"))\n",
        "y = double(input(\"y의 값을 입력하세요 : \"))\n",
        "a = x+y\n",
        "print(a)\n",
        "print(type(a))"
      ],
      "execution_count": 10,
      "outputs": [
        {
          "output_type": "stream",
          "text": [
            "x의 값을 입력하세요 : 1.45\n",
            "y의 값을 입력하세요 : 2.55\n",
            "4.0\n",
            "<class 'float'>\n"
          ],
          "name": "stdout"
        }
      ]
    },
    {
      "cell_type": "code",
      "metadata": {
        "colab": {
          "base_uri": "https://localhost:8080/"
        },
        "id": "fWrRn4MMWh79",
        "outputId": "2c1e5641-0c9d-421e-bcd7-17e02615bff5"
      },
      "source": [
        "x = str(\"하위\")\n",
        "y = str(\" 만나서 반가워요\")\n",
        "print(type(x))\n",
        "print(x+y)"
      ],
      "execution_count": 12,
      "outputs": [
        {
          "output_type": "stream",
          "text": [
            "<class 'str'>\n",
            "하위 만나서 반가워요\n"
          ],
          "name": "stdout"
        }
      ]
    },
    {
      "cell_type": "markdown",
      "metadata": {
        "id": "Pj_y834_fgUF"
      },
      "source": [
        "# #1. 최소공배수와 최대공약수 구하기\n",
        "> 두개의 자연수를 입력받아 최대 공약수와 최소 공배수를 출력하는 프로그램을 작성하시오. <br>(첫째 줄에는 입력으로 주어진 두 수의 최대공약수를 둘째 줄에는 입력으로 주어진 두 수의 최소 공배수를 출력한다.)\n",
        "******\n",
        "입력 예<br>\n",
        "24 18<br>\n",
        "<br>\n",
        "출력 예<br>\n",
        "6<br>\n",
        "72<br>"
      ]
    },
    {
      "cell_type": "code",
      "metadata": {
        "colab": {
          "base_uri": "https://localhost:8080/"
        },
        "id": "YIIPmxNIdrGZ",
        "outputId": "70508061-d9e4-4ae0-9cdf-5eb829ce59b7"
      },
      "source": [
        "import math\n",
        "\n",
        "def lcm(x, y):\n",
        "  return x*y // math.gcd(x, y)\n",
        "\n",
        "x, y = map(int,input().split()) # 24, 18\n",
        "\n",
        "print(math.gcd(x, y))\n",
        "print(lcm(x, y))\n",
        "\n"
      ],
      "execution_count": 26,
      "outputs": [
        {
          "output_type": "stream",
          "text": [
            "24 18\n",
            "6\n",
            "72\n"
          ],
          "name": "stdout"
        }
      ]
    },
    {
      "cell_type": "code",
      "metadata": {
        "id": "_5ZIYAdBisTp"
      },
      "source": [
        "x = 10\n",
        "y = 20\n",
        "z = 30"
      ],
      "execution_count": null,
      "outputs": []
    },
    {
      "cell_type": "code",
      "metadata": {
        "colab": {
          "base_uri": "https://localhost:8080/"
        },
        "id": "Bm06t5ZIgFNP",
        "outputId": "6008f5e1-3ef4-47fd-c191-8a8c5dbe3c7a"
      },
      "source": [
        "def solution(phone_number):\n",
        "  answer = ''\n",
        "  length = len(phone_number) # 길이가 다를 것을 대비\n",
        "\n",
        "  for index in range(length): # 3-4-4 = 010-XXXX-XXXX\n",
        "    if(index < (length-4) ):\n",
        "      answer = answer + \"*\" # answer += \"*\"\n",
        "    else:\n",
        "      answer = answer + phone_number[index] # answer += phone_number[index]\n",
        "  return answer\n",
        "\n",
        "# 0, 1, 0, 5, 3, 7, 7, 2, 0, 3, 9\n",
        "# \"0, 1, 2, 3, 4, 5, 6,\"\" 7, 8, 9, 10\n",
        "# *, *, *, *, *, *, 2, 0, 3, 9\n",
        "\n",
        "# str1 = 'abc'\n",
        "# str2 = 'def'\n",
        "# str3 = str1 + str2\n",
        "# str3 ==> 'abcdef'\n",
        "\n",
        "phone_number1 = '01053772039'\n",
        "phone_number2 = '010534405'\n",
        "\n",
        "print(solution(phone_number1))\n",
        "print(solution(phone_number2))"
      ],
      "execution_count": 39,
      "outputs": [
        {
          "output_type": "stream",
          "text": [
            "*******2039\n",
            "*****4405\n"
          ],
          "name": "stdout"
        }
      ]
    },
    {
      "cell_type": "markdown",
      "metadata": {
        "id": "0udWJZKPrw8K"
      },
      "source": [
        "# 입력 예시\n",
        "[[1,0,1,1,1],[1,0,1,0,1],[1,0,1,1,1],[1,1,1,0,1],[0,0,0,0,1]]\t11 <br>\n",
        "[[1,0,1,1,1],[1,0,1,0,1],[1,0,1,1,1],[1,1,1,0,0],[0,0,0,0,1]]\t-1 <br>\n"
      ]
    },
    {
      "cell_type": "code",
      "metadata": {
        "id": "_ER29ZlGlYBU"
      },
      "source": [
        "map_a = [[1,0,1,1,1],[1,0,1,0,1],[1,0,1,1,1],[1,1,1,0,1],[0,0,0,0,1]]\n",
        "map_b = [[1,0,1,1,1],[1,0,1,0,1],[1,0,1,1,1],[1,1,1,0,0],[0,0,0,0,1]]\n",
        "\n",
        "def solution(maps):\n",
        "\n",
        "  class Node():\n",
        "    def __init__(self):\n",
        "      self.chk = 0\n",
        "  chk = [[0,0,0,0,0],[0,0,0,0,0],[0,0,0,0,0],[0,0,0,0,0],[0,0,0,0,0]]\n",
        "\n",
        "\n",
        "\n",
        "  answer = 0\n",
        "  return answer\n",
        "\n",
        "print(map_a)"
      ],
      "execution_count": null,
      "outputs": []
    },
    {
      "cell_type": "code",
      "metadata": {
        "colab": {
          "base_uri": "https://localhost:8080/"
        },
        "id": "fZJvnsEiwPLZ",
        "outputId": "46f4781a-7701-4ec1-b692-9a2ffa3948fd"
      },
      "source": [
        "sum = 10+20+38\n",
        "\n",
        "print(\"sum = %d, avg = %lf\" % (sum, sum/3)) # 반올림\n",
        "print(\"sum = %d, avg = %lf\" % (sum, sum/3.0)) # 버림\n",
        "print(\"sum = %d, avg = %lf\" % (sum, sum%3.0)) # 나머지\n"
      ],
      "execution_count": 57,
      "outputs": [
        {
          "output_type": "stream",
          "text": [
            "sum = 68, avg = 22.666667\n",
            "sum = 68, avg = 22.666667\n",
            "sum = 68, avg = 2.000000\n"
          ],
          "name": "stdout"
        }
      ]
    },
    {
      "cell_type": "code",
      "metadata": {
        "colab": {
          "base_uri": "https://localhost:8080/"
        },
        "id": "74aexDVQwaOB",
        "outputId": "836e56df-761b-4e80-c24d-ec015403ff12"
      },
      "source": [
        "x, y, z = map(int, input().split())"
      ],
      "execution_count": 58,
      "outputs": [
        {
          "output_type": "stream",
          "text": [
            "20 50 100\n"
          ],
          "name": "stdout"
        }
      ]
    },
    {
      "cell_type": "code",
      "metadata": {
        "id": "OajRXpD51L9Z"
      },
      "source": [
        ""
      ],
      "execution_count": null,
      "outputs": []
    }
  ]
}